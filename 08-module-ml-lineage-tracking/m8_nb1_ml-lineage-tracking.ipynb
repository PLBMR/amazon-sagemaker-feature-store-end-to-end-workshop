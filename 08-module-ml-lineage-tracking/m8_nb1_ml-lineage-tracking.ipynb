{
 "cells": [
  {
   "cell_type": "markdown",
   "metadata": {},
   "source": [
    "# Create and Query ML Lineage between SageMaker - Models, Inference Endpoints, Feature Store, Processing Jobs and Datasources\n",
    "\n",
    "---\n",
    "\n",
    "#### Note: Please set kernel to Python 3 (Data Science) and select instance to ml.t3.medium\n",
    "\n",
    "\n",
    "##### Amazon SageMaker ML Lineage Tracking creates and stores information about the steps of a machine learning (ML) workflow from data preparation to model deployment. With the tracking information you can reproduce the workflow steps, track model and dataset lineage, and establish model governance and audit standards.\n",
    "\n",
    "\n",
    "\n",
    "#### With SageMaker Lineage Tracking data scientists and model builders can do the following:\n",
    "---\n",
    "##### 1. Keep a running history of model discovery experiments.\n",
    "\n",
    "##### 2. Establish model governance by tracking model lineage artifacts for auditing and compliance verification.\n",
    "\n",
    "##### 3. Clone and rerun workflows to experiment with what-if scenarios while developing models.\n",
    "\n",
    "##### 4. Share a workflow that colleagues can reproduce and enhance (for example, while collaborating on solving a business problem).\n",
    "\n",
    "##### 5. Clone and rerun workflows with additional debugging or logging routines, or new input variations for troubleshooting issues in production models.\n",
    "\n",
    "---\n",
    "\n",
    "## Contents\n",
    "\n",
    "1. [Notebook Preparation](#Notebook-Preparation)\n",
    "   1. [Imports](#Imports)\n",
    "   1. [Check and update Sagemaker version](#Check-and-update-Sagemaker-version)\n",
    "   1. [Logging Settings](#Logging-Settings)\n",
    "   1. [Module Configurations](#Module-Configurations)\n",
    "1. [ML Lineage Creation](#ML-Lineage-Creation) \n",
    "   1. [Create ML Lineage](#Create-ML-Lineage)\n",
    "   1. [Verify ML Lineage](#Verify-ML-Lineage)\n",
    "   1. [ML Lineage Graph](#ML-Lineage-Graph)\n",
    "1. [ML Lineage Querying](#ML-Lineage-Querying)\n",
    "   1. [Query ML Lineage by SageMaker Model Name or SageMaker Inference Endpoint](#Query-ML-Lineage-by-SageMaker-Model-Name-or-SageMaker-Inference-Endpoint)\n",
    "   1. [Given a SageMaker Model name or artifact ARN, you can find associated Feature Groups](#Given-a-SageMaker-Model-Name-or-artifact-ARN,-you-can-find-associated-Feature-Groups)\n",
    "   1. [Given a Feature Group ARN, and find associated SageMaker Models](#Given-a-Feature-Group-ARN,-and-find-associated-SageMaker-Models)\n",
    "   1. [Given a data source's S3 URI or Artifact ARN, you can find associated SageMaker Feature Groups](#Given-a-data-source's-S3-URI-or-Artifact-ARN,-you-can-find-associated-SageMaker-Feature-Groups)\n",
    "   1. [Given a Feature Group ARN, and find associated data sources](#Given-a-Feature-Group-ARN,-and-find-associated-data-sources)\n"
   ]
  },
  {
   "cell_type": "markdown",
   "metadata": {},
   "source": [
    "## Notebook Preparation"
   ]
  },
  {
   "cell_type": "markdown",
   "metadata": {},
   "source": [
    "#### Imports"
   ]
  },
  {
   "cell_type": "code",
   "execution_count": null,
   "metadata": {},
   "outputs": [],
   "source": [
    "import sagemaker \n",
    "from sagemaker.feature_store.feature_group import FeatureGroup\n",
    "from sagemaker import get_execution_role\n",
    "import pandas as pd\n",
    "import logging\n",
    "import os\n",
    "import json\n",
    "import sys\n",
    "\n",
    "%store -r package_dir\n",
    "sys.path.append(package_dir)\n",
    "print(package_dir)"
   ]
  },
  {
   "cell_type": "code",
   "execution_count": null,
   "metadata": {},
   "outputs": [],
   "source": [
    "%load_ext autoreload\n",
    "%autoreload 2\n",
    "from ml_lineage_helper.ml_lineage_helper import *\n",
    "from ml_lineage_helper.ml_lineage_helper.query_lineage import QueryLineage"
   ]
  },
  {
   "cell_type": "markdown",
   "metadata": {},
   "source": [
    "#### Check and update Sagemaker version"
   ]
  },
  {
   "cell_type": "code",
   "execution_count": null,
   "metadata": {},
   "outputs": [],
   "source": [
    "if sagemaker.__version__ < '2.48.1':\n",
    "    subprocess.check_call([sys.executable, '-m', 'pip', 'install', 'sagemaker==2.48.1'])\n",
    "    importlib.reload(sagemaker)"
   ]
  },
  {
   "cell_type": "markdown",
   "metadata": {},
   "source": [
    "#### Logging Settings"
   ]
  },
  {
   "cell_type": "code",
   "execution_count": null,
   "metadata": {},
   "outputs": [],
   "source": [
    "logger = logging.getLogger('__name__')\n",
    "logger.setLevel(logging.DEBUG)\n",
    "logger.addHandler(logging.StreamHandler())\n",
    "logger.info(f'Using SageMaker version: {sagemaker.__version__}')\n",
    "logger.info(f'Using Pandas version: {pd.__version__}')"
   ]
  },
  {
   "cell_type": "markdown",
   "metadata": {},
   "source": [
    "#### Module Configurations "
   ]
  },
  {
   "cell_type": "code",
   "execution_count": null,
   "metadata": {},
   "outputs": [],
   "source": [
    "# Sagemaker session\n",
    "sess = sagemaker.Session()\n",
    "\n",
    "# Sagemaker Region\n",
    "region=sess.boto_region_name\n",
    "print(region)\n",
    "\n",
    "# IAM role for executing the processing job.\n",
    "iam_role = sagemaker.get_execution_role()"
   ]
  },
  {
   "cell_type": "markdown",
   "metadata": {},
   "source": [
    "#### Load peristed variables from previous modules"
   ]
  },
  {
   "cell_type": "code",
   "execution_count": null,
   "metadata": {},
   "outputs": [],
   "source": [
    "# Retreive Estimator parameters\n",
    "%store -r model_base_job_name\n",
    "print(model_base_job_name)\n",
    "%store -r training_jobName\n",
    "print(training_jobName)\n",
    "%store -r model_output_path\n",
    "print(model_output_path)\n",
    "\n",
    "# Retreive FG names\n",
    "%store -r customers_feature_group_name\n",
    "print(customers_feature_group_name)\n",
    "%store -r products_feature_group_name\n",
    "print(products_feature_group_name)\n",
    "%store -r orders_feature_group_name\n",
    "print(orders_feature_group_name)\n",
    "#%store -r feature_group_name\n",
    "#orders_feature_group_name = feature_group_name\n",
    "#print(orders_feature_group_name)\n",
    "\n",
    "# Retreive Orders Datasource\n",
    "%store -r orders_datasource\n",
    "print(orders_datasource)\n",
    "\n",
    "# Retreive Processing Job\n",
    "%store -r processing_job_name\n",
    "print(processing_job_name)\n",
    "%store -r processing_job_description\n",
    "print(processing_job_description)\n",
    "\n",
    "# Retreive Endpoint Name\n",
    "%store -r endpoint_name\n",
    "print(endpoint_name)\n",
    "\n",
    "# Retreive Query String\n",
    "%store -r query_string\n",
    "print(query_string)"
   ]
  },
  {
   "cell_type": "markdown",
   "metadata": {},
   "source": [
    "---\n",
    "## ML Lineage Creation\n",
    "---"
   ]
  },
  {
   "cell_type": "markdown",
   "metadata": {},
   "source": [
    "#### Clear (Delete) existing ML Lineage"
   ]
  },
  {
   "cell_type": "code",
   "execution_count": null,
   "metadata": {},
   "outputs": [],
   "source": [
    "sagemakersession = SageMakerSession(bucket_name=sess.default_bucket(),\n",
    "        region=region,\n",
    "        role_name=iam_role,\n",
    "        aws_profile_name=\"default\",\n",
    "    )\n",
    "ml_lineage = MLLineageHelper(sagemaker_session=sagemakersession, sagemaker_model_name_or_model_s3_uri=endpoint_name)\n",
    "ml_lineage.delete_lineage_data()"
   ]
  },
  {
   "cell_type": "markdown",
   "metadata": {},
   "source": [
    "#### Create ML Lineage"
   ]
  },
  {
   "cell_type": "code",
   "execution_count": null,
   "metadata": {},
   "outputs": [],
   "source": [
    "# Model name is same as endpoint name in this example\n",
    "ml_lineage = MLLineageHelper()\n",
    "lineage = ml_lineage.create_ml_lineage(training_jobName, model_name=endpoint_name, query=query_string,\n",
    "                                       feature_group_names=[customers_feature_group_name,\n",
    "                                           products_feature_group_name,\n",
    "                                           orders_feature_group_name], \n",
    "                                       sagemaker_processing_job_description=processing_job_description\n",
    "                                      )"
   ]
  },
  {
   "cell_type": "markdown",
   "metadata": {},
   "source": [
    "### Verify ML Lineage"
   ]
  },
  {
   "cell_type": "code",
   "execution_count": null,
   "metadata": {},
   "outputs": [],
   "source": [
    "# Print the ML Lineage\n",
    "lineage"
   ]
  },
  {
   "cell_type": "markdown",
   "metadata": {},
   "source": [
    "### ML Lineage Graph"
   ]
  },
  {
   "cell_type": "code",
   "execution_count": null,
   "metadata": {},
   "outputs": [],
   "source": [
    "# Visual Representation of the ML Lineage\n",
    "ml_lineage.graph()"
   ]
  },
  {
   "cell_type": "markdown",
   "metadata": {},
   "source": [
    "\n",
    "---\n",
    "## ML Lineage Querying\n",
    "---\n",
    "\n"
   ]
  },
  {
   "cell_type": "markdown",
   "metadata": {},
   "source": [
    "#### Query ML Lineage by SageMaker Model Name or SageMaker Inference Endpoint"
   ]
  },
  {
   "cell_type": "code",
   "execution_count": null,
   "metadata": {},
   "outputs": [],
   "source": [
    "lineageObject = MLLineageHelper(sagemaker_model_name_or_model_s3_uri=endpoint_name)\n",
    "lineageObject.df"
   ]
  },
  {
   "cell_type": "markdown",
   "metadata": {},
   "source": [
    "#### Given a SageMaker Model Name or artifact ARN, you can find associated Feature Groups"
   ]
  },
  {
   "cell_type": "code",
   "execution_count": null,
   "metadata": {
    "scrolled": true
   },
   "outputs": [],
   "source": [
    "query_lineage = QueryLineage()\n",
    "query_lineage.get_feature_groups_from_model(endpoint_name)"
   ]
  },
  {
   "cell_type": "markdown",
   "metadata": {},
   "source": [
    "#### Given a Feature Group ARN, and find associated SageMaker Models"
   ]
  },
  {
   "cell_type": "code",
   "execution_count": null,
   "metadata": {},
   "outputs": [],
   "source": [
    "feature_group = FeatureGroup(name=orders_feature_group_name, sagemaker_session=sess)\n",
    "query_lineage.get_models_from_feature_group(feature_group.describe()['FeatureGroupArn'])"
   ]
  },
  {
   "cell_type": "markdown",
   "metadata": {},
   "source": [
    "#### Given a data source's S3 URI or Artifact ARN, you can find associated SageMaker Feature Groups"
   ]
  },
  {
   "cell_type": "code",
   "execution_count": null,
   "metadata": {},
   "outputs": [],
   "source": [
    "query_lineage.get_feature_groups_from_data_source(orders_datasource, 3)"
   ]
  },
  {
   "cell_type": "markdown",
   "metadata": {},
   "source": [
    "#### Given a Feature Group ARN, and find associated data sources"
   ]
  },
  {
   "cell_type": "code",
   "execution_count": null,
   "metadata": {},
   "outputs": [],
   "source": [
    "orders_feature_group = FeatureGroup(name=orders_feature_group_name, sagemaker_session=sess)\n",
    "orders_feature_group_arn = orders_feature_group.describe()['FeatureGroupArn']\n",
    "print(orders_feature_group_arn)\n",
    "query_lineage.get_data_sources_from_feature_group(orders_feature_group_arn, max_depth=2)"
   ]
  },
  {
   "cell_type": "code",
   "execution_count": null,
   "metadata": {},
   "outputs": [],
   "source": []
  }
 ],
 "metadata": {
  "instance_type": "ml.t3.medium",
  "kernelspec": {
   "display_name": "Python 3 (Data Science)",
   "language": "python",
   "name": "python3__SAGEMAKER_INTERNAL__arn:aws:sagemaker:us-west-2:236514542706:image/datascience-1.0"
  },
  "language_info": {
   "codemirror_mode": {
    "name": "ipython",
    "version": 3
   },
   "file_extension": ".py",
   "mimetype": "text/x-python",
   "name": "python",
   "nbconvert_exporter": "python",
   "pygments_lexer": "ipython3",
   "version": "3.7.10"
  }
 },
 "nbformat": 4,
 "nbformat_minor": 4
}
