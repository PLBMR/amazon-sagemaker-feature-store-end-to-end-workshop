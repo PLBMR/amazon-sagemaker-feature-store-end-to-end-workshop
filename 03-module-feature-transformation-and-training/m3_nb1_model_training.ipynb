{
 "cells": [
  {
   "cell_type": "markdown",
   "metadata": {},
   "source": [
    "# Module 3: Model Training\n",
    "**This notebook uses the feature set extracted by `module-2` to create a XGBoost based machine learning model for binary classification**\n",
    "\n",
    "**Note:** Please set kernel to `Python 3 (Data Science)` and select instance to `ml.t3.medium`\n",
    "\n",
    "---\n",
    "\n",
    "## Contents\n",
    "\n",
    "1. [Background](#Background)\n",
    "1. [Setup](#Setup)\n",
    "1. [Load transformed feature set](#Load-transformed-feature-set)\n",
    "1. [Split data](#Split-data)\n",
    "1. [Train a model using SageMaker built-in XgBoost algorithm](#Train-a-model-using-SageMaker-built-in-XgBoost-algorithm)\n",
    "1. [Real time inference using the deployed endpoint](#Real-time-inference-using-the-deployed-endpoint)"
   ]
  },
  {
   "cell_type": "markdown",
   "metadata": {},
   "source": [
    "# Background\n",
    "\n",
    "In this notebook, we demonstrate how to use the feature set derived in `Module-2` and create a machine learning model for predicting whether a customer will reorder a product or not based on historical records. Given the problem type is supervised binary classification, we will use a SageMaker built-in algorithm XGBoost to design this classifier. Once the model is trained, we will also deploy the trained model as a SageMaker endpoint for real-time inference."
   ]
  },
  {
   "cell_type": "markdown",
   "metadata": {},
   "source": [
    "# Setup"
   ]
  },
  {
   "cell_type": "code",
   "execution_count": 3,
   "metadata": {},
   "outputs": [],
   "source": [
    "from sagemaker.serializers import CSVSerializer\n",
    "from sagemaker.inputs import TrainingInput\n",
    "from sagemaker.predictor import Predictor\n",
    "from sagemaker import get_execution_role\n",
    "import pandas as pd\n",
    "import numpy as np\n",
    "import sagemaker\n",
    "import logging\n",
    "import boto3\n",
    "import json\n",
    "import os"
   ]
  },
  {
   "cell_type": "code",
   "execution_count": 4,
   "metadata": {},
   "outputs": [],
   "source": [
    "logger = logging.getLogger('__name__')\n",
    "logger.setLevel(logging.DEBUG)\n",
    "logger.addHandler(logging.StreamHandler())"
   ]
  },
  {
   "cell_type": "markdown",
   "metadata": {},
   "source": [
    "#### Essentials"
   ]
  },
  {
   "cell_type": "code",
   "execution_count": 5,
   "metadata": {},
   "outputs": [
    {
     "name": "stderr",
     "output_type": "stream",
     "text": [
      "Role = arn:aws:iam::570358149193:role/service-role/AmazonSageMaker-ExecutionRole-20210506T162928\n",
      "Role = arn:aws:iam::570358149193:role/service-role/AmazonSageMaker-ExecutionRole-20210506T162928\n"
     ]
    }
   ],
   "source": [
    "sagemaker_execution_role = get_execution_role()\n",
    "logger.info(f'Role = {sagemaker_execution_role}')\n",
    "session = boto3.Session()\n",
    "sagemaker_session = sagemaker.Session()\n",
    "default_bucket = sagemaker_session.default_bucket()\n",
    "prefix = 'sagemaker-featurestore-workshop'\n",
    "s3 = session.resource('s3')"
   ]
  },
  {
   "cell_type": "markdown",
   "metadata": {},
   "source": [
    "# Load transformed feature set"
   ]
  },
  {
   "cell_type": "code",
   "execution_count": 6,
   "metadata": {},
   "outputs": [
    {
     "data": {
      "text/html": [
       "<div>\n",
       "<style scoped>\n",
       "    .dataframe tbody tr th:only-of-type {\n",
       "        vertical-align: middle;\n",
       "    }\n",
       "\n",
       "    .dataframe tbody tr th {\n",
       "        vertical-align: top;\n",
       "    }\n",
       "\n",
       "    .dataframe thead th {\n",
       "        text-align: right;\n",
       "    }\n",
       "</style>\n",
       "<table border=\"1\" class=\"dataframe\">\n",
       "  <thead>\n",
       "    <tr style=\"text-align: right;\">\n",
       "      <th></th>\n",
       "      <th>sex</th>\n",
       "      <th>is_married</th>\n",
       "      <th>age_18-29</th>\n",
       "      <th>age_30-39</th>\n",
       "      <th>age_40-49</th>\n",
       "      <th>age_50-59</th>\n",
       "      <th>age_60-69</th>\n",
       "      <th>age_70-plus</th>\n",
       "      <th>n_days_active</th>\n",
       "      <th>category_baby_food_formula</th>\n",
       "      <th>...</th>\n",
       "      <th>category_ice_cream_ice</th>\n",
       "      <th>category_juice_nectars</th>\n",
       "      <th>category_packaged_cheese</th>\n",
       "      <th>category_refrigerated</th>\n",
       "      <th>category_soup_broth_bouillon</th>\n",
       "      <th>category_spices_seasonings</th>\n",
       "      <th>category_tea</th>\n",
       "      <th>category_vitamins_supplements</th>\n",
       "      <th>category_yogurt</th>\n",
       "      <th>is_reordered</th>\n",
       "    </tr>\n",
       "  </thead>\n",
       "  <tbody>\n",
       "    <tr>\n",
       "      <th>0</th>\n",
       "      <td>0</td>\n",
       "      <td>1</td>\n",
       "      <td>0</td>\n",
       "      <td>0</td>\n",
       "      <td>0</td>\n",
       "      <td>0</td>\n",
       "      <td>0</td>\n",
       "      <td>1</td>\n",
       "      <td>0.767123</td>\n",
       "      <td>0</td>\n",
       "      <td>...</td>\n",
       "      <td>0</td>\n",
       "      <td>1</td>\n",
       "      <td>0</td>\n",
       "      <td>0</td>\n",
       "      <td>0</td>\n",
       "      <td>0</td>\n",
       "      <td>0</td>\n",
       "      <td>0</td>\n",
       "      <td>0</td>\n",
       "      <td>0</td>\n",
       "    </tr>\n",
       "    <tr>\n",
       "      <th>1</th>\n",
       "      <td>0</td>\n",
       "      <td>1</td>\n",
       "      <td>0</td>\n",
       "      <td>0</td>\n",
       "      <td>0</td>\n",
       "      <td>0</td>\n",
       "      <td>0</td>\n",
       "      <td>1</td>\n",
       "      <td>0.767123</td>\n",
       "      <td>0</td>\n",
       "      <td>...</td>\n",
       "      <td>0</td>\n",
       "      <td>1</td>\n",
       "      <td>0</td>\n",
       "      <td>0</td>\n",
       "      <td>0</td>\n",
       "      <td>0</td>\n",
       "      <td>0</td>\n",
       "      <td>0</td>\n",
       "      <td>0</td>\n",
       "      <td>0</td>\n",
       "    </tr>\n",
       "    <tr>\n",
       "      <th>2</th>\n",
       "      <td>1</td>\n",
       "      <td>0</td>\n",
       "      <td>1</td>\n",
       "      <td>0</td>\n",
       "      <td>0</td>\n",
       "      <td>0</td>\n",
       "      <td>0</td>\n",
       "      <td>0</td>\n",
       "      <td>0.593151</td>\n",
       "      <td>0</td>\n",
       "      <td>...</td>\n",
       "      <td>0</td>\n",
       "      <td>0</td>\n",
       "      <td>0</td>\n",
       "      <td>0</td>\n",
       "      <td>0</td>\n",
       "      <td>0</td>\n",
       "      <td>1</td>\n",
       "      <td>0</td>\n",
       "      <td>0</td>\n",
       "      <td>0</td>\n",
       "    </tr>\n",
       "    <tr>\n",
       "      <th>3</th>\n",
       "      <td>1</td>\n",
       "      <td>0</td>\n",
       "      <td>1</td>\n",
       "      <td>0</td>\n",
       "      <td>0</td>\n",
       "      <td>0</td>\n",
       "      <td>0</td>\n",
       "      <td>0</td>\n",
       "      <td>0.593151</td>\n",
       "      <td>0</td>\n",
       "      <td>...</td>\n",
       "      <td>0</td>\n",
       "      <td>0</td>\n",
       "      <td>1</td>\n",
       "      <td>0</td>\n",
       "      <td>0</td>\n",
       "      <td>0</td>\n",
       "      <td>0</td>\n",
       "      <td>0</td>\n",
       "      <td>0</td>\n",
       "      <td>1</td>\n",
       "    </tr>\n",
       "    <tr>\n",
       "      <th>4</th>\n",
       "      <td>1</td>\n",
       "      <td>0</td>\n",
       "      <td>1</td>\n",
       "      <td>0</td>\n",
       "      <td>0</td>\n",
       "      <td>0</td>\n",
       "      <td>0</td>\n",
       "      <td>0</td>\n",
       "      <td>0.593151</td>\n",
       "      <td>0</td>\n",
       "      <td>...</td>\n",
       "      <td>0</td>\n",
       "      <td>0</td>\n",
       "      <td>1</td>\n",
       "      <td>0</td>\n",
       "      <td>0</td>\n",
       "      <td>0</td>\n",
       "      <td>0</td>\n",
       "      <td>0</td>\n",
       "      <td>0</td>\n",
       "      <td>1</td>\n",
       "    </tr>\n",
       "  </tbody>\n",
       "</table>\n",
       "<p>5 rows × 30 columns</p>\n",
       "</div>"
      ],
      "text/plain": [
       "   sex  is_married  age_18-29  age_30-39  age_40-49  age_50-59  age_60-69  \\\n",
       "0    0           1          0          0          0          0          0   \n",
       "1    0           1          0          0          0          0          0   \n",
       "2    1           0          1          0          0          0          0   \n",
       "3    1           0          1          0          0          0          0   \n",
       "4    1           0          1          0          0          0          0   \n",
       "\n",
       "   age_70-plus  n_days_active  category_baby_food_formula  ...  \\\n",
       "0            1       0.767123                           0  ...   \n",
       "1            1       0.767123                           0  ...   \n",
       "2            0       0.593151                           0  ...   \n",
       "3            0       0.593151                           0  ...   \n",
       "4            0       0.593151                           0  ...   \n",
       "\n",
       "   category_ice_cream_ice  category_juice_nectars  category_packaged_cheese  \\\n",
       "0                       0                       1                         0   \n",
       "1                       0                       1                         0   \n",
       "2                       0                       0                         0   \n",
       "3                       0                       0                         1   \n",
       "4                       0                       0                         1   \n",
       "\n",
       "   category_refrigerated  category_soup_broth_bouillon  \\\n",
       "0                      0                             0   \n",
       "1                      0                             0   \n",
       "2                      0                             0   \n",
       "3                      0                             0   \n",
       "4                      0                             0   \n",
       "\n",
       "   category_spices_seasonings  category_tea  category_vitamins_supplements  \\\n",
       "0                           0             0                              0   \n",
       "1                           0             0                              0   \n",
       "2                           0             1                              0   \n",
       "3                           0             0                              0   \n",
       "4                           0             0                              0   \n",
       "\n",
       "   category_yogurt  is_reordered  \n",
       "0                0             0  \n",
       "1                0             0  \n",
       "2                0             0  \n",
       "3                0             1  \n",
       "4                0             1  \n",
       "\n",
       "[5 rows x 30 columns]"
      ]
     },
     "execution_count": 6,
     "metadata": {},
     "output_type": "execute_result"
    }
   ],
   "source": [
    "df = pd.read_csv('../data/train/transformed.csv')\n",
    "df.head(5)"
   ]
  },
  {
   "cell_type": "code",
   "execution_count": 7,
   "metadata": {},
   "outputs": [
    {
     "data": {
      "text/plain": [
       "(328131, 30)"
      ]
     },
     "execution_count": 7,
     "metadata": {},
     "output_type": "execute_result"
    }
   ],
   "source": [
    "df.shape"
   ]
  },
  {
   "cell_type": "markdown",
   "metadata": {},
   "source": [
    "Move column `is_redordered` to be the first column since our training algorithm `XGBoost` expects the target column to be the first column."
   ]
  },
  {
   "cell_type": "code",
   "execution_count": 8,
   "metadata": {},
   "outputs": [
    {
     "data": {
      "text/html": [
       "<div>\n",
       "<style scoped>\n",
       "    .dataframe tbody tr th:only-of-type {\n",
       "        vertical-align: middle;\n",
       "    }\n",
       "\n",
       "    .dataframe tbody tr th {\n",
       "        vertical-align: top;\n",
       "    }\n",
       "\n",
       "    .dataframe thead th {\n",
       "        text-align: right;\n",
       "    }\n",
       "</style>\n",
       "<table border=\"1\" class=\"dataframe\">\n",
       "  <thead>\n",
       "    <tr style=\"text-align: right;\">\n",
       "      <th></th>\n",
       "      <th>is_reordered</th>\n",
       "      <th>sex</th>\n",
       "      <th>is_married</th>\n",
       "      <th>age_18-29</th>\n",
       "      <th>age_30-39</th>\n",
       "      <th>age_40-49</th>\n",
       "      <th>age_50-59</th>\n",
       "      <th>age_60-69</th>\n",
       "      <th>age_70-plus</th>\n",
       "      <th>n_days_active</th>\n",
       "      <th>...</th>\n",
       "      <th>category_hair_care</th>\n",
       "      <th>category_ice_cream_ice</th>\n",
       "      <th>category_juice_nectars</th>\n",
       "      <th>category_packaged_cheese</th>\n",
       "      <th>category_refrigerated</th>\n",
       "      <th>category_soup_broth_bouillon</th>\n",
       "      <th>category_spices_seasonings</th>\n",
       "      <th>category_tea</th>\n",
       "      <th>category_vitamins_supplements</th>\n",
       "      <th>category_yogurt</th>\n",
       "    </tr>\n",
       "  </thead>\n",
       "  <tbody>\n",
       "    <tr>\n",
       "      <th>0</th>\n",
       "      <td>0</td>\n",
       "      <td>0</td>\n",
       "      <td>1</td>\n",
       "      <td>0</td>\n",
       "      <td>0</td>\n",
       "      <td>0</td>\n",
       "      <td>0</td>\n",
       "      <td>0</td>\n",
       "      <td>1</td>\n",
       "      <td>0.767123</td>\n",
       "      <td>...</td>\n",
       "      <td>0</td>\n",
       "      <td>0</td>\n",
       "      <td>1</td>\n",
       "      <td>0</td>\n",
       "      <td>0</td>\n",
       "      <td>0</td>\n",
       "      <td>0</td>\n",
       "      <td>0</td>\n",
       "      <td>0</td>\n",
       "      <td>0</td>\n",
       "    </tr>\n",
       "    <tr>\n",
       "      <th>1</th>\n",
       "      <td>0</td>\n",
       "      <td>0</td>\n",
       "      <td>1</td>\n",
       "      <td>0</td>\n",
       "      <td>0</td>\n",
       "      <td>0</td>\n",
       "      <td>0</td>\n",
       "      <td>0</td>\n",
       "      <td>1</td>\n",
       "      <td>0.767123</td>\n",
       "      <td>...</td>\n",
       "      <td>0</td>\n",
       "      <td>0</td>\n",
       "      <td>1</td>\n",
       "      <td>0</td>\n",
       "      <td>0</td>\n",
       "      <td>0</td>\n",
       "      <td>0</td>\n",
       "      <td>0</td>\n",
       "      <td>0</td>\n",
       "      <td>0</td>\n",
       "    </tr>\n",
       "    <tr>\n",
       "      <th>2</th>\n",
       "      <td>0</td>\n",
       "      <td>1</td>\n",
       "      <td>0</td>\n",
       "      <td>1</td>\n",
       "      <td>0</td>\n",
       "      <td>0</td>\n",
       "      <td>0</td>\n",
       "      <td>0</td>\n",
       "      <td>0</td>\n",
       "      <td>0.593151</td>\n",
       "      <td>...</td>\n",
       "      <td>0</td>\n",
       "      <td>0</td>\n",
       "      <td>0</td>\n",
       "      <td>0</td>\n",
       "      <td>0</td>\n",
       "      <td>0</td>\n",
       "      <td>0</td>\n",
       "      <td>1</td>\n",
       "      <td>0</td>\n",
       "      <td>0</td>\n",
       "    </tr>\n",
       "    <tr>\n",
       "      <th>3</th>\n",
       "      <td>1</td>\n",
       "      <td>1</td>\n",
       "      <td>0</td>\n",
       "      <td>1</td>\n",
       "      <td>0</td>\n",
       "      <td>0</td>\n",
       "      <td>0</td>\n",
       "      <td>0</td>\n",
       "      <td>0</td>\n",
       "      <td>0.593151</td>\n",
       "      <td>...</td>\n",
       "      <td>0</td>\n",
       "      <td>0</td>\n",
       "      <td>0</td>\n",
       "      <td>1</td>\n",
       "      <td>0</td>\n",
       "      <td>0</td>\n",
       "      <td>0</td>\n",
       "      <td>0</td>\n",
       "      <td>0</td>\n",
       "      <td>0</td>\n",
       "    </tr>\n",
       "    <tr>\n",
       "      <th>4</th>\n",
       "      <td>1</td>\n",
       "      <td>1</td>\n",
       "      <td>0</td>\n",
       "      <td>1</td>\n",
       "      <td>0</td>\n",
       "      <td>0</td>\n",
       "      <td>0</td>\n",
       "      <td>0</td>\n",
       "      <td>0</td>\n",
       "      <td>0.593151</td>\n",
       "      <td>...</td>\n",
       "      <td>0</td>\n",
       "      <td>0</td>\n",
       "      <td>0</td>\n",
       "      <td>1</td>\n",
       "      <td>0</td>\n",
       "      <td>0</td>\n",
       "      <td>0</td>\n",
       "      <td>0</td>\n",
       "      <td>0</td>\n",
       "      <td>0</td>\n",
       "    </tr>\n",
       "  </tbody>\n",
       "</table>\n",
       "<p>5 rows × 30 columns</p>\n",
       "</div>"
      ],
      "text/plain": [
       "   is_reordered  sex  is_married  age_18-29  age_30-39  age_40-49  age_50-59  \\\n",
       "0             0    0           1          0          0          0          0   \n",
       "1             0    0           1          0          0          0          0   \n",
       "2             0    1           0          1          0          0          0   \n",
       "3             1    1           0          1          0          0          0   \n",
       "4             1    1           0          1          0          0          0   \n",
       "\n",
       "   age_60-69  age_70-plus  n_days_active  ...  category_hair_care  \\\n",
       "0          0            1       0.767123  ...                   0   \n",
       "1          0            1       0.767123  ...                   0   \n",
       "2          0            0       0.593151  ...                   0   \n",
       "3          0            0       0.593151  ...                   0   \n",
       "4          0            0       0.593151  ...                   0   \n",
       "\n",
       "   category_ice_cream_ice  category_juice_nectars  category_packaged_cheese  \\\n",
       "0                       0                       1                         0   \n",
       "1                       0                       1                         0   \n",
       "2                       0                       0                         0   \n",
       "3                       0                       0                         1   \n",
       "4                       0                       0                         1   \n",
       "\n",
       "   category_refrigerated  category_soup_broth_bouillon  \\\n",
       "0                      0                             0   \n",
       "1                      0                             0   \n",
       "2                      0                             0   \n",
       "3                      0                             0   \n",
       "4                      0                             0   \n",
       "\n",
       "   category_spices_seasonings  category_tea  category_vitamins_supplements  \\\n",
       "0                           0             0                              0   \n",
       "1                           0             0                              0   \n",
       "2                           0             1                              0   \n",
       "3                           0             0                              0   \n",
       "4                           0             0                              0   \n",
       "\n",
       "   category_yogurt  \n",
       "0                0  \n",
       "1                0  \n",
       "2                0  \n",
       "3                0  \n",
       "4                0  \n",
       "\n",
       "[5 rows x 30 columns]"
      ]
     },
     "execution_count": 8,
     "metadata": {},
     "output_type": "execute_result"
    }
   ],
   "source": [
    "first_column = df.pop('is_reordered')\n",
    "df.insert(0, 'is_reordered', first_column)\n",
    "df.head()"
   ]
  },
  {
   "cell_type": "markdown",
   "metadata": {},
   "source": [
    "# Split data\n",
    "\n",
    "We will shuffle the whole dataset first (df.sample(frac=1, random_state=123)) and then split our data set into the following parts:\n",
    "\n",
    "* 70% - train set,\n",
    "* 20% - validation set,\n",
    "* 10% - test set\n",
    "\n",
    "**Note:**  In the code below, the first element denotes size for train (0.7 = 70%), second element denotes size for test (1-0.9 = 0.1 = 10%) and difference between the two denotes size for validation(1 - [0.7+0.1] = 0.2 = 20%)."
   ]
  },
  {
   "cell_type": "code",
   "execution_count": 9,
   "metadata": {},
   "outputs": [],
   "source": [
    "train_df, validation_df, test_df = np.split(df.sample(frac=1, random_state=123), [int(.7*len(df)), int(.9*len(df))])"
   ]
  },
  {
   "cell_type": "code",
   "execution_count": 10,
   "metadata": {},
   "outputs": [
    {
     "data": {
      "text/plain": [
       "(229691, 30)"
      ]
     },
     "execution_count": 10,
     "metadata": {},
     "output_type": "execute_result"
    }
   ],
   "source": [
    "train_df.shape"
   ]
  },
  {
   "cell_type": "code",
   "execution_count": 11,
   "metadata": {},
   "outputs": [
    {
     "data": {
      "text/plain": [
       "(65626, 30)"
      ]
     },
     "execution_count": 11,
     "metadata": {},
     "output_type": "execute_result"
    }
   ],
   "source": [
    "validation_df.shape"
   ]
  },
  {
   "cell_type": "code",
   "execution_count": 12,
   "metadata": {},
   "outputs": [
    {
     "data": {
      "text/plain": [
       "(32814, 30)"
      ]
     },
     "execution_count": 12,
     "metadata": {},
     "output_type": "execute_result"
    }
   ],
   "source": [
    "test_df.shape"
   ]
  },
  {
   "cell_type": "markdown",
   "metadata": {},
   "source": [
    "Save split datasets to local"
   ]
  },
  {
   "cell_type": "code",
   "execution_count": 13,
   "metadata": {},
   "outputs": [],
   "source": [
    "train_df.to_csv('../data/train/train.csv', index=False)\n",
    "validation_df.to_csv('../data/validation/validation.csv', index=False)\n",
    "test_df.to_csv('../data/test/test.csv', index=False)"
   ]
  },
  {
   "cell_type": "markdown",
   "metadata": {},
   "source": [
    "Copy datasets to S3 from local"
   ]
  },
  {
   "cell_type": "code",
   "execution_count": 14,
   "metadata": {},
   "outputs": [],
   "source": [
    "s3.Bucket(default_bucket).Object(os.path.join(prefix, 'train/train.csv')).upload_file('../data/train/train.csv')\n",
    "s3.Bucket(default_bucket).Object(os.path.join(prefix, 'validation/validation.csv')).upload_file('../data/validation/validation.csv')\n",
    "s3.Bucket(default_bucket).Object(os.path.join(prefix, 'test/test.csv')).upload_file('../data/test/test.csv')"
   ]
  },
  {
   "cell_type": "markdown",
   "metadata": {},
   "source": [
    "Create Pointers to the uploaded files"
   ]
  },
  {
   "cell_type": "code",
   "execution_count": 15,
   "metadata": {},
   "outputs": [],
   "source": [
    "train_set_location = 's3://{}/{}/train/'.format(default_bucket, prefix)\n",
    "validation_set_location = 's3://{}/{}/validation/'.format(default_bucket, prefix)\n",
    "test_set_location = 's3://{}/{}/test/'.format(default_bucket, prefix)"
   ]
  },
  {
   "cell_type": "code",
   "execution_count": 16,
   "metadata": {},
   "outputs": [],
   "source": [
    "train_set_pointer = TrainingInput(s3_data=train_set_location, content_type='csv')\n",
    "validation_set_pointer = TrainingInput(s3_data=validation_set_location, content_type='csv')\n",
    "test_set_pointer = TrainingInput(s3_data=test_set_location, content_type='csv')"
   ]
  },
  {
   "cell_type": "code",
   "execution_count": 17,
   "metadata": {},
   "outputs": [
    {
     "name": "stdout",
     "output_type": "stream",
     "text": [
      "{\n",
      "  \"config\": {\n",
      "    \"DataSource\": {\n",
      "      \"S3DataSource\": {\n",
      "        \"S3DataType\": \"S3Prefix\",\n",
      "        \"S3Uri\": \"s3://sagemaker-ap-southeast-1-570358149193/sagemaker-featurestore-workshop/train/\",\n",
      "        \"S3DataDistributionType\": \"FullyReplicated\"\n",
      "      }\n",
      "    },\n",
      "    \"ContentType\": \"csv\"\n",
      "  }\n",
      "}\n"
     ]
    }
   ],
   "source": [
    "print(json.dumps(train_set_pointer.__dict__, indent=2))"
   ]
  },
  {
   "cell_type": "markdown",
   "metadata": {},
   "source": [
    "# Train a model using SageMaker built-in XgBoost algorithm"
   ]
  },
  {
   "cell_type": "code",
   "execution_count": 18,
   "metadata": {},
   "outputs": [],
   "source": [
    "container_uri = sagemaker.image_uris.retrieve(region=session.region_name, \n",
    "                                              framework='xgboost', \n",
    "                                              version='1.0-1', \n",
    "                                              image_scope='training')"
   ]
  },
  {
   "cell_type": "code",
   "execution_count": 19,
   "metadata": {},
   "outputs": [],
   "source": [
    "xgb = sagemaker.estimator.Estimator(image_uri=container_uri,\n",
    "                                    role=sagemaker_execution_role, \n",
    "                                    instance_count=2, \n",
    "                                    instance_type='ml.m5.xlarge',\n",
    "                                    output_path='s3://{}/{}/model-artifacts'.format(default_bucket, prefix),\n",
    "                                    sagemaker_session=sagemaker_session,\n",
    "                                    base_job_name='reorder-classifier')\n",
    "\n",
    "xgb.set_hyperparameters(objective='binary:logistic',\n",
    "                        num_round=100)"
   ]
  },
  {
   "cell_type": "code",
   "execution_count": 20,
   "metadata": {},
   "outputs": [
    {
     "name": "stdout",
     "output_type": "stream",
     "text": [
      "2021-10-26 00:47:45 Starting - Starting the training job...\n",
      "2021-10-26 00:48:08 Starting - Launching requested ML instancesProfilerReport-1635209264: InProgress\n",
      "...\n",
      "2021-10-26 00:48:38 Starting - Preparing the instances for training.........\n",
      "2021-10-26 00:50:08 Downloading - Downloading input data...\n",
      "2021-10-26 00:50:35 Training - Training image download completed. Training in progress.\u001b[34mINFO:sagemaker-containers:Imported framework sagemaker_xgboost_container.training\u001b[0m\n",
      "\u001b[34mINFO:sagemaker-containers:Failed to parse hyperparameter objective value binary:logistic to Json.\u001b[0m\n",
      "\u001b[34mReturning the value itself\u001b[0m\n",
      "\u001b[34mINFO:sagemaker-containers:No GPUs detected (normal if no gpus installed)\u001b[0m\n",
      "\u001b[34mINFO:sagemaker_xgboost_container.training:Running XGBoost Sagemaker in algorithm mode\u001b[0m\n",
      "\u001b[34mINFO:root:Determined delimiter of CSV input is ','\u001b[0m\n",
      "\u001b[34mINFO:root:Determined delimiter of CSV input is ','\u001b[0m\n",
      "\u001b[34mINFO:root:Determined delimiter of CSV input is ','\u001b[0m\n",
      "\u001b[34m[00:50:37] 229692x29 matrix with 6661068 entries loaded from /opt/ml/input/data/train?format=csv&label_column=0&delimiter=,\u001b[0m\n",
      "\u001b[34mINFO:root:Determined delimiter of CSV input is ','\u001b[0m\n",
      "\u001b[34m[00:50:37] 65627x29 matrix with 1903183 entries loaded from /opt/ml/input/data/validation?format=csv&label_column=0&delimiter=,\u001b[0m\n",
      "\u001b[34mINFO:root:Distributed node training with 2 hosts: ['algo-1', 'algo-2']\u001b[0m\n",
      "\u001b[34mINFO:RabitTracker:start listen on algo-1:9099\u001b[0m\n",
      "\u001b[34mINFO:RabitContextManager:Rabit slave environment: {'DMLC_TRACKER_URI': 'algo-1', 'DMLC_TRACKER_PORT': 9099}\u001b[0m\n",
      "\u001b[34mINFO:RabitContextManager:Connected to RabitTracker.\u001b[0m\n",
      "\u001b[34mINFO:RabitTracker:No data received from connection ('10.0.196.170', 36488). Closing.\u001b[0m\n",
      "\u001b[34mtask NULL connected to the tracker\u001b[0m\n",
      "\u001b[34mINFO:RabitTracker:No data received from connection ('10.0.221.214', 53062). Closing.\u001b[0m\n",
      "\u001b[34mtask NULL got new rank 0\u001b[0m\n",
      "\u001b[34mINFO:RabitTracker:Recieve start signal from 10.0.196.170; assign rank 0\u001b[0m\n",
      "\u001b[34mINFO:RabitTracker:Recieve start signal from 10.0.221.214; assign rank 1\u001b[0m\n",
      "\u001b[34mINFO:RabitTracker:@tracker All of 2 nodes getting started\u001b[0m\n",
      "\u001b[34mINFO:RabitTracker:@tracker All nodes finishes job\u001b[0m\n",
      "\u001b[34mINFO:RabitTracker:@tracker 0.1724224090576172 secs between node start and job finish\u001b[0m\n",
      "\u001b[34mINFO:RabitTracker:start listen on algo-1:9100\u001b[0m\n",
      "\u001b[34mINFO:RabitContextManager:Rabit slave environment: {'DMLC_TRACKER_URI': 'algo-1', 'DMLC_TRACKER_PORT': 9100}\u001b[0m\n",
      "\u001b[34mINFO:RabitContextManager:Connected to RabitTracker.\u001b[0m\n",
      "\u001b[34mINFO:RabitTracker:No data received from connection ('10.0.196.170', 55150). Closing.\u001b[0m\n",
      "\u001b[34mtask NULL connected to the tracker\u001b[0m\n",
      "\u001b[35mINFO:sagemaker-containers:Imported framework sagemaker_xgboost_container.training\u001b[0m\n",
      "\u001b[35mINFO:sagemaker-containers:Failed to parse hyperparameter objective value binary:logistic to Json.\u001b[0m\n",
      "\u001b[35mReturning the value itself\u001b[0m\n",
      "\u001b[35mINFO:sagemaker-containers:No GPUs detected (normal if no gpus installed)\u001b[0m\n",
      "\u001b[35mINFO:sagemaker_xgboost_container.training:Running XGBoost Sagemaker in algorithm mode\u001b[0m\n",
      "\u001b[35mINFO:root:Determined delimiter of CSV input is ','\u001b[0m\n",
      "\u001b[35mINFO:root:Determined delimiter of CSV input is ','\u001b[0m\n",
      "\u001b[35mINFO:root:Determined delimiter of CSV input is ','\u001b[0m\n",
      "\u001b[35m[00:50:37] 229692x29 matrix with 6661068 entries loaded from /opt/ml/input/data/train?format=csv&label_column=0&delimiter=,\u001b[0m\n",
      "\u001b[35mINFO:root:Determined delimiter of CSV input is ','\u001b[0m\n",
      "\u001b[35m[00:50:37] 65627x29 matrix with 1903183 entries loaded from /opt/ml/input/data/validation?format=csv&label_column=0&delimiter=,\u001b[0m\n",
      "\u001b[35mINFO:root:Distributed node training with 2 hosts: ['algo-1', 'algo-2']\u001b[0m\n",
      "\u001b[35mINFO:RabitContextManager:Connected to RabitTracker.\u001b[0m\n",
      "\u001b[35mtask NULL connected to the tracker\u001b[0m\n",
      "\u001b[35mtask NULL got new rank 1\u001b[0m\n",
      "\u001b[35mINFO:RabitContextManager:Failed to connect to RabitTracker on attempt 0\u001b[0m\n",
      "\u001b[35mINFO:RabitContextManager:Sleeping for 3 sec before retrying\u001b[0m\n",
      "\u001b[35mINFO:RabitContextManager:Connected to RabitTracker.\u001b[0m\n",
      "\u001b[35mtask NULL connected to the tracker\u001b[0m\n",
      "\u001b[34mINFO:RabitTracker:No data received from connection ('10.0.221.214', 46010). Closing.\u001b[0m\n",
      "\u001b[34mtask NULL got new rank 0\u001b[0m\n",
      "\u001b[35mtask NULL got new rank 1\u001b[0m\n",
      "\u001b[35mINFO:root:Train matrix has 229692 rows\u001b[0m\n",
      "\u001b[35mINFO:root:Validation matrix has 65627 rows\u001b[0m\n",
      "\u001b[35m[00:50:44] WARNING: /workspace/src/learner.cc:328: \u001b[0m\n",
      "\u001b[35mParameters: { num_round } might not be used.\n",
      "\n",
      "  This may not be accurate due to some parameters are only used in language bindings but\n",
      "  passed down to XGBoost core.  Or some parameters are not used but slip through this\n",
      "  verification. Please open an issue if you find above cases.\n",
      "\n",
      "\u001b[0m\n",
      "\u001b[35m[00:50:44] WARNING: /workspace/src/gbm/gbtree.cc:128: Tree method is automatically selected to be 'approx' for distributed training.\u001b[0m\n",
      "\u001b[34mINFO:RabitTracker:Recieve start signal from 10.0.196.170; assign rank 0\u001b[0m\n",
      "\u001b[34mINFO:root:Train matrix has 229692 rows\u001b[0m\n",
      "\u001b[34mINFO:RabitTracker:Recieve start signal from 10.0.221.214; assign rank 1\u001b[0m\n",
      "\u001b[34mINFO:root:Validation matrix has 65627 rows\u001b[0m\n",
      "\u001b[34mINFO:RabitTracker:@tracker All of 2 nodes getting started\u001b[0m\n",
      "\u001b[34m[00:50:44] WARNING: /workspace/src/learner.cc:328: \u001b[0m\n",
      "\u001b[34mParameters: { num_round } might not be used.\n",
      "\n",
      "  This may not be accurate due to some parameters are only used in language bindings but\n",
      "  passed down to XGBoost core.  Or some parameters are not used but slip through this\n",
      "  verification. Please open an issue if you find above cases.\n",
      "\n",
      "\u001b[0m\n",
      "\u001b[34m[00:50:44] WARNING: /workspace/src/gbm/gbtree.cc:128: Tree method is automatically selected to be 'approx' for distributed training.\u001b[0m\n",
      "\u001b[34mINFO:RabitTracker:[0]#011train-error:0.33144#011validation-error:0.32779\u001b[0m\n",
      "\u001b[34mINFO:RabitTracker:[1]#011train-error:0.33133#011validation-error:0.32791\u001b[0m\n",
      "\u001b[34mINFO:RabitTracker:[2]#011train-error:0.33135#011validation-error:0.32776\u001b[0m\n",
      "\u001b[34mINFO:RabitTracker:[3]#011train-error:0.33145#011validation-error:0.32779\u001b[0m\n",
      "\u001b[34mINFO:RabitTracker:[4]#011train-error:0.33152#011validation-error:0.32769\u001b[0m\n",
      "\u001b[34mINFO:RabitTracker:[5]#011train-error:0.33141#011validation-error:0.32773\u001b[0m\n",
      "\u001b[34mINFO:RabitTracker:[6]#011train-error:0.33147#011validation-error:0.32772\u001b[0m\n",
      "\u001b[34mINFO:RabitTracker:[7]#011train-error:0.33154#011validation-error:0.32790\u001b[0m\n",
      "\u001b[34mINFO:RabitTracker:[8]#011train-error:0.33157#011validation-error:0.32793\u001b[0m\n",
      "\u001b[34mINFO:RabitTracker:[9]#011train-error:0.33141#011validation-error:0.32799\u001b[0m\n",
      "\u001b[34mINFO:RabitTracker:[10]#011train-error:0.33144#011validation-error:0.32800\u001b[0m\n",
      "\u001b[34mINFO:RabitTracker:[11]#011train-error:0.33146#011validation-error:0.32800\u001b[0m\n",
      "\u001b[34mINFO:RabitTracker:[12]#011train-error:0.33133#011validation-error:0.32791\u001b[0m\n",
      "\u001b[34mINFO:RabitTracker:[13]#011train-error:0.33128#011validation-error:0.32791\u001b[0m\n",
      "\u001b[34mINFO:RabitTracker:[14]#011train-error:0.33117#011validation-error:0.32784\u001b[0m\n",
      "\u001b[34mINFO:RabitTracker:[15]#011train-error:0.33111#011validation-error:0.32784\u001b[0m\n",
      "\u001b[34mINFO:RabitTracker:[16]#011train-error:0.33107#011validation-error:0.32781\u001b[0m\n",
      "\u001b[34mINFO:RabitTracker:[17]#011train-error:0.33107#011validation-error:0.32781\u001b[0m\n",
      "\u001b[34mINFO:RabitTracker:[18]#011train-error:0.33094#011validation-error:0.32782\u001b[0m\n",
      "\u001b[34mINFO:RabitTracker:[19]#011train-error:0.33089#011validation-error:0.32781\u001b[0m\n",
      "\u001b[34mINFO:RabitTracker:[20]#011train-error:0.33089#011validation-error:0.32770\u001b[0m\n",
      "\u001b[34mINFO:RabitTracker:[21]#011train-error:0.33084#011validation-error:0.32769\u001b[0m\n",
      "\u001b[34mINFO:RabitTracker:[22]#011train-error:0.33076#011validation-error:0.32769\u001b[0m\n",
      "\u001b[34mINFO:RabitTracker:[23]#011train-error:0.33066#011validation-error:0.32770\u001b[0m\n",
      "\u001b[34mINFO:RabitTracker:[24]#011train-error:0.33058#011validation-error:0.32743\u001b[0m\n",
      "\u001b[34mINFO:RabitTracker:[25]#011train-error:0.33042#011validation-error:0.32737\u001b[0m\n",
      "\u001b[34mINFO:RabitTracker:[26]#011train-error:0.33043#011validation-error:0.32738\u001b[0m\n",
      "\u001b[34mINFO:RabitTracker:[27]#011train-error:0.33026#011validation-error:0.32730\u001b[0m\n",
      "\u001b[34mINFO:RabitTracker:[28]#011train-error:0.33018#011validation-error:0.32720\u001b[0m\n",
      "\u001b[34mINFO:RabitTracker:[29]#011train-error:0.32995#011validation-error:0.32720\u001b[0m\n",
      "\u001b[34mINFO:RabitTracker:[30]#011train-error:0.32984#011validation-error:0.32717\u001b[0m\n",
      "\u001b[34mINFO:RabitTracker:[31]#011train-error:0.32972#011validation-error:0.32715\u001b[0m\n",
      "\u001b[34mINFO:RabitTracker:[32]#011train-error:0.32963#011validation-error:0.32715\u001b[0m\n",
      "\u001b[34mINFO:RabitTracker:[33]#011train-error:0.32958#011validation-error:0.32711\u001b[0m\n",
      "\u001b[34mINFO:RabitTracker:[34]#011train-error:0.32943#011validation-error:0.32709\u001b[0m\n",
      "\u001b[34mINFO:RabitTracker:[35]#011train-error:0.32933#011validation-error:0.32714\u001b[0m\n",
      "\u001b[34mINFO:RabitTracker:[36]#011train-error:0.32934#011validation-error:0.32726\u001b[0m\n",
      "\u001b[34mINFO:RabitTracker:[37]#011train-error:0.32927#011validation-error:0.32714\u001b[0m\n",
      "\u001b[34mINFO:RabitTracker:[38]#011train-error:0.32910#011validation-error:0.32683\u001b[0m\n",
      "\u001b[34mINFO:RabitTracker:[39]#011train-error:0.32901#011validation-error:0.32692\u001b[0m\n",
      "\u001b[34mINFO:RabitTracker:[40]#011train-error:0.32898#011validation-error:0.32683\u001b[0m\n",
      "\u001b[34mINFO:RabitTracker:[41]#011train-error:0.32881#011validation-error:0.32679\u001b[0m\n",
      "\u001b[34mINFO:RabitTracker:[42]#011train-error:0.32878#011validation-error:0.32672\u001b[0m\n",
      "\u001b[34mINFO:RabitTracker:[43]#011train-error:0.32861#011validation-error:0.32668\u001b[0m\n",
      "\u001b[34mINFO:RabitTracker:[44]#011train-error:0.32859#011validation-error:0.32660\u001b[0m\n",
      "\u001b[34mINFO:RabitTracker:[45]#011train-error:0.32856#011validation-error:0.32663\u001b[0m\n",
      "\u001b[34mINFO:RabitTracker:[46]#011train-error:0.32847#011validation-error:0.32662\u001b[0m\n",
      "\u001b[34mINFO:RabitTracker:[47]#011train-error:0.32827#011validation-error:0.32660\u001b[0m\n",
      "\u001b[34mINFO:RabitTracker:[48]#011train-error:0.32810#011validation-error:0.32660\u001b[0m\n",
      "\u001b[34mINFO:RabitTracker:[49]#011train-error:0.32806#011validation-error:0.32653\u001b[0m\n",
      "\u001b[34mINFO:RabitTracker:[50]#011train-error:0.32799#011validation-error:0.32668\u001b[0m\n",
      "\u001b[34mINFO:RabitTracker:[51]#011train-error:0.32787#011validation-error:0.32645\u001b[0m\n",
      "\u001b[34mINFO:RabitTracker:[52]#011train-error:0.32767#011validation-error:0.32644\u001b[0m\n",
      "\u001b[34mINFO:RabitTracker:[53]#011train-error:0.32760#011validation-error:0.32651\u001b[0m\n",
      "\u001b[34mINFO:RabitTracker:[54]#011train-error:0.32758#011validation-error:0.32665\u001b[0m\n",
      "\u001b[34mINFO:RabitTracker:[55]#011train-error:0.32751#011validation-error:0.32660\u001b[0m\n",
      "\u001b[34mINFO:RabitTracker:[56]#011train-error:0.32734#011validation-error:0.32650\u001b[0m\n",
      "\u001b[34mINFO:RabitTracker:[57]#011train-error:0.32728#011validation-error:0.32644\u001b[0m\n",
      "\u001b[34mINFO:RabitTracker:[58]#011train-error:0.32712#011validation-error:0.32636\u001b[0m\n",
      "\u001b[34mINFO:RabitTracker:[59]#011train-error:0.32710#011validation-error:0.32627\u001b[0m\n",
      "\u001b[34mINFO:RabitTracker:[60]#011train-error:0.32697#011validation-error:0.32634\u001b[0m\n",
      "\u001b[34mINFO:RabitTracker:[61]#011train-error:0.32696#011validation-error:0.32634\u001b[0m\n",
      "\u001b[34mINFO:RabitTracker:[62]#011train-error:0.32691#011validation-error:0.32628\u001b[0m\n",
      "\u001b[34mINFO:RabitTracker:[63]#011train-error:0.32668#011validation-error:0.32621\u001b[0m\n",
      "\u001b[34mINFO:RabitTracker:[64]#011train-error:0.32642#011validation-error:0.32624\u001b[0m\n",
      "\u001b[34mINFO:RabitTracker:[65]#011train-error:0.32621#011validation-error:0.32587\u001b[0m\n",
      "\u001b[34mINFO:RabitTracker:[66]#011train-error:0.32610#011validation-error:0.32580\u001b[0m\n",
      "\u001b[34mINFO:RabitTracker:[67]#011train-error:0.32594#011validation-error:0.32583\u001b[0m\n",
      "\u001b[34mINFO:RabitTracker:[68]#011train-error:0.32593#011validation-error:0.32584\u001b[0m\n",
      "\u001b[34mINFO:RabitTracker:[69]#011train-error:0.32586#011validation-error:0.32578\u001b[0m\n",
      "\u001b[34mINFO:RabitTracker:[70]#011train-error:0.32568#011validation-error:0.32575\u001b[0m\n",
      "\u001b[34mINFO:RabitTracker:[71]#011train-error:0.32557#011validation-error:0.32554\u001b[0m\n",
      "\u001b[34mINFO:RabitTracker:[72]#011train-error:0.32555#011validation-error:0.32569\u001b[0m\n",
      "\u001b[34mINFO:RabitTracker:[73]#011train-error:0.32543#011validation-error:0.32567\u001b[0m\n",
      "\u001b[34mINFO:RabitTracker:[74]#011train-error:0.32532#011validation-error:0.32575\u001b[0m\n",
      "\u001b[34mINFO:RabitTracker:[75]#011train-error:0.32518#011validation-error:0.32581\u001b[0m\n",
      "\u001b[34mINFO:RabitTracker:[76]#011train-error:0.32513#011validation-error:0.32583\u001b[0m\n",
      "\u001b[34mINFO:RabitTracker:[77]#011train-error:0.32516#011validation-error:0.32584\u001b[0m\n",
      "\u001b[34mINFO:RabitTracker:[78]#011train-error:0.32511#011validation-error:0.32586\u001b[0m\n",
      "\u001b[34mINFO:RabitTracker:[79]#011train-error:0.32505#011validation-error:0.32572\u001b[0m\n",
      "\u001b[34mINFO:RabitTracker:[80]#011train-error:0.32475#011validation-error:0.32560\u001b[0m\n",
      "\u001b[34mINFO:RabitTracker:[81]#011train-error:0.32466#011validation-error:0.32555\u001b[0m\n",
      "\u001b[34mINFO:RabitTracker:[82]#011train-error:0.32466#011validation-error:0.32558\u001b[0m\n",
      "\u001b[34mINFO:RabitTracker:[83]#011train-error:0.32451#011validation-error:0.32544\u001b[0m\n",
      "\u001b[34mINFO:RabitTracker:[84]#011train-error:0.32443#011validation-error:0.32537\u001b[0m\n",
      "\u001b[34mINFO:RabitTracker:[85]#011train-error:0.32430#011validation-error:0.32525\u001b[0m\n",
      "\u001b[34mINFO:RabitTracker:[86]#011train-error:0.32424#011validation-error:0.32526\u001b[0m\n",
      "\u001b[34mINFO:RabitTracker:[87]#011train-error:0.32410#011validation-error:0.32503\u001b[0m\n",
      "\u001b[34mINFO:RabitTracker:[88]#011train-error:0.32405#011validation-error:0.32508\u001b[0m\n",
      "\u001b[34mINFO:RabitTracker:[89]#011train-error:0.32388#011validation-error:0.32516\u001b[0m\n",
      "\u001b[34mINFO:RabitTracker:[90]#011train-error:0.32383#011validation-error:0.32523\u001b[0m\n",
      "\u001b[34mINFO:RabitTracker:[91]#011train-error:0.32382#011validation-error:0.32528\u001b[0m\n",
      "\u001b[34mINFO:RabitTracker:[92]#011train-error:0.32357#011validation-error:0.32493\u001b[0m\n",
      "\u001b[34mINFO:RabitTracker:[93]#011train-error:0.32341#011validation-error:0.32477\u001b[0m\n",
      "\u001b[34mINFO:RabitTracker:[94]#011train-error:0.32328#011validation-error:0.32482\u001b[0m\n",
      "\u001b[34mINFO:RabitTracker:[95]#011train-error:0.32329#011validation-error:0.32484\u001b[0m\n",
      "\u001b[34mINFO:RabitTracker:[96]#011train-error:0.32325#011validation-error:0.32496\u001b[0m\n",
      "\u001b[34mINFO:RabitTracker:[97]#011train-error:0.32319#011validation-error:0.32491\u001b[0m\n",
      "\u001b[34mINFO:RabitTracker:[98]#011train-error:0.32308#011validation-error:0.32491\u001b[0m\n",
      "\u001b[34mINFO:RabitTracker:[99]#011train-error:0.32305#011validation-error:0.32471\u001b[0m\n",
      "\u001b[34mINFO:RabitTracker:@tracker All nodes finishes job\u001b[0m\n",
      "\u001b[34mINFO:RabitTracker:@tracker 48.602068185806274 secs between node start and job finish\u001b[0m\n",
      "\n",
      "2021-10-26 00:51:42 Uploading - Uploading generated training model\n",
      "2021-10-26 00:51:42 Completed - Training job completed\n",
      "Training seconds: 206\n",
      "Billable seconds: 206\n"
     ]
    }
   ],
   "source": [
    "xgb.fit({'train': train_set_pointer, 'validation': validation_set_pointer})"
   ]
  },
  {
   "cell_type": "code",
   "execution_count": 21,
   "metadata": {},
   "outputs": [
    {
     "name": "stdout",
     "output_type": "stream",
     "text": [
      "Stored 'xgb_model_data' (str)\n"
     ]
    }
   ],
   "source": [
    "xgb_model_data = xgb.model_data\n",
    "%store xgb_model_data"
   ]
  },
  {
   "cell_type": "markdown",
   "metadata": {},
   "source": [
    "#### Host the trained XGBoost model as a SageMaker Endpoint"
   ]
  },
  {
   "cell_type": "markdown",
   "metadata": {},
   "source": [
    "**Note:** The deployment usually takes ~10 mins - good time to take a coffee break :)"
   ]
  },
  {
   "cell_type": "code",
   "execution_count": null,
   "metadata": {},
   "outputs": [],
   "source": [
    "xgb_predictor = xgb.deploy(initial_instance_count=2,\n",
    "                           instance_type='ml.m5.xlarge')"
   ]
  },
  {
   "cell_type": "code",
   "execution_count": null,
   "metadata": {},
   "outputs": [],
   "source": []
  },
  {
   "cell_type": "markdown",
   "metadata": {},
   "source": [
    "# Real time inference using the deployed endpoint"
   ]
  },
  {
   "cell_type": "code",
   "execution_count": null,
   "metadata": {},
   "outputs": [],
   "source": [
    "csv_serializer = CSVSerializer()\n",
    "endpoint_name = xgb_predictor.endpoint_name\n",
    "%store endpoint_name\n",
    "predictor = Predictor(endpoint_name=endpoint_name, \n",
    "                      serializer=csv_serializer)"
   ]
  },
  {
   "cell_type": "code",
   "execution_count": null,
   "metadata": {},
   "outputs": [],
   "source": [
    "test_df = pd.read_csv('../data/test/test.csv')\n",
    "record = test_df.sample(1)\n",
    "record"
   ]
  },
  {
   "cell_type": "code",
   "execution_count": null,
   "metadata": {},
   "outputs": [],
   "source": [
    "X = record.values[0]\n",
    "payload = X[1:]\n",
    "payload"
   ]
  },
  {
   "cell_type": "code",
   "execution_count": null,
   "metadata": {},
   "outputs": [],
   "source": [
    "%%time\n",
    "\n",
    "predicted_class_prob = predictor.predict(payload).decode('utf-8')\n",
    "if float(predicted_class_prob) < 0.5:\n",
    "    logger.info('Prediction (y) = Will not reorder')\n",
    "else:\n",
    "    logger.info('Prediction (y) = Will reorder')"
   ]
  },
  {
   "cell_type": "code",
   "execution_count": null,
   "metadata": {},
   "outputs": [],
   "source": []
  }
 ],
 "metadata": {
  "instance_type": "ml.t3.medium",
  "kernelspec": {
   "display_name": "Python 3 (Data Science)",
   "language": "python",
   "name": "sagemaker"
  },
  "language_info": {
   "codemirror_mode": {
    "name": "ipython",
    "version": 3
   },
   "file_extension": ".py",
   "mimetype": "text/x-python",
   "name": "python",
   "nbconvert_exporter": "python",
   "pygments_lexer": "ipython3",
   "version": "3.9.7"
  }
 },
 "nbformat": 4,
 "nbformat_minor": 4
}
