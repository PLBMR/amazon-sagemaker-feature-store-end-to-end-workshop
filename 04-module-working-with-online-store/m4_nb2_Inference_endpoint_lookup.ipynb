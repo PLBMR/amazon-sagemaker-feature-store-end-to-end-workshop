{
 "cells": [
  {
   "cell_type": "markdown",
   "metadata": {},
   "source": [
    "# Module 4: Inference Patterns- endpoint based feature look up\n",
    "**This notebook uses the feature groups created in `module 1` and `module 2` and model trained in `module 3` to show how we can look up features from online feature store in realtime from an endpoint**\n",
    "\n",
    "**Note:** Please set kernel to `Python 3 (Data Science)` and select instance to `ml.t3.medium`\n",
    "\n",
    "\n",
    "# Contents\n",
    "\n",
    "1. [Background](#Background)\n",
    "2. [Setup](#Setup)\n",
    "3. [Load feature groups names](#feature_names)\n",
    "4. [Load the traind model to use for inference](#load_train_model)\n",
    "5. [Deploy the model](#deploy_model)\n",
    "6. [Make inference](#Real-time-inference-using-the-deployed-endpoint)\n"
   ]
  },
  {
   "cell_type": "markdown",
   "metadata": {},
   "source": [
    "# Background\n",
    "In this notebook, we demonstrate how to retreive features from two online feature groups within an endpoint. \n",
    "\n",
    "First we use the feature sets derived and ingested to online features stores in Modules 1 and 2 as well as the model trained in module 3 that was a SageMaker XGBoost binary classifier algorithm predicting whether a given product is added by a user to their basket.\n",
    "\n",
    "In this notebook, we will  deploy the already trained model from the model artifact on to a SageMaker endpoint for real-time inference. Our endpoint will get the features from two online features groups (customers and products feature groups created in Module 2). By sending the request body as customer id and product id we retreive the associated features from customer and product feature groups from low latency online feature stores and send them to the model endpoint for real-time inference.\n",
    "\n",
    "For this we will create a custom inference script, and specify the feature groups as well as features. We Utilise a custom library (helper.py) that faciliates returning the resutls from featurestore using some helper functions. The returned result is then fed into the model for inference.\n",
    "\n",
    "Take a few minutes reviewing the following architecture:\n",
    "\n",
    "![Inference endpoint lookup](../images/m4_nb2_inference_pattern.png \"Inference endpoint feature look up\")\n"
   ]
  },
  {
   "cell_type": "markdown",
   "metadata": {},
   "source": [
    "# Setup"
   ]
  },
  {
   "cell_type": "code",
   "execution_count": null,
   "metadata": {},
   "outputs": [],
   "source": [
    "from sagemaker.serializers import CSVSerializer\n",
    "from sagemaker.inputs import TrainingInput\n",
    "from sagemaker.predictor import Predictor\n",
    "from sagemaker import get_execution_role\n",
    "import pandas as pd\n",
    "import numpy as np\n",
    "import sagemaker\n",
    "import logging\n",
    "import json\n",
    "import os\n",
    "import sys\n",
    "sys.path.append('..')\n",
    "#!pip install boto3 --upgrade\n",
    "import boto3\n"
   ]
  },
  {
   "cell_type": "markdown",
   "metadata": {},
   "source": [
    "### Essentials\n"
   ]
  },
  {
   "cell_type": "code",
   "execution_count": null,
   "metadata": {},
   "outputs": [],
   "source": [
    "logger = logging.getLogger('__name__')\n",
    "logger.setLevel(logging.DEBUG)\n",
    "logger.addHandler(logging.StreamHandler())"
   ]
  },
  {
   "cell_type": "code",
   "execution_count": null,
   "metadata": {},
   "outputs": [],
   "source": [
    "sagemaker_execution_role = get_execution_role()\n",
    "logger.info(f'Role = {sagemaker_execution_role}')\n",
    "session = boto3.Session()\n",
    "sagemaker_session = sagemaker.Session()\n",
    "sagemaker_client = session.client(service_name=\"sagemaker\")\n",
    "default_bucket = sagemaker_session.default_bucket()\n",
    "prefix = 'sagemaker-featurestore-workshop'\n",
    "s3 = session.resource('s3')\n"
   ]
  },
  {
   "cell_type": "markdown",
   "metadata": {},
   "source": [
    "# Load feature groups names <a class=\"anchor\" id=\"feature_names\"></a>"
   ]
  },
  {
   "cell_type": "code",
   "execution_count": null,
   "metadata": {},
   "outputs": [],
   "source": [
    "%store -r customers_feature_group_name\n",
    "%store -r products_feature_group_name\n",
    "%store -r endpoint_name"
   ]
  },
  {
   "cell_type": "markdown",
   "metadata": {},
   "source": [
    "# Load the traind model to use for inference <a class=\"anchor\" id=\"load_train_model\"></a>\n",
    "We will use the model artificats we trained in module 3 and use it for making inference- We will customise the inference of the model as described below"
   ]
  },
  {
   "cell_type": "code",
   "execution_count": null,
   "metadata": {},
   "outputs": [],
   "source": [
    "%store -r training_jobName\n",
    "\n",
    "from sagemaker.xgboost.model import XGBoostModel\n",
    "\n",
    "training_job_info = sagemaker_client.describe_training_job(\n",
    "    TrainingJobName=training_jobName\n",
    ")\n",
    "xgb_model_data = training_job_info[\"ModelArtifacts\"][\"S3ModelArtifacts\"]\n"
   ]
  },
  {
   "cell_type": "markdown",
   "metadata": {},
   "source": [
    "# Deploy the model <a class=\"anchor\" id=\"deploy_model\"></a>\n",
    "We deploy our model into an real-time endpoint and customise that by passing an inference script as well as our helper python library.\n",
    "\n",
    "First we prepare an inference.py entry script. If you pay attention inside the script, you will see few changes. Pay attention to the following details in the script:\n",
    "\n",
    "1. Firstly, you will see that we have defined a list that includes feature group names along side feature names, where it allows to select for a pre-defined features by specifying their names or all the features by specifying '*'. \n",
    "For example:\n",
    "\n",
    "To get selected features from users and product featurs stores:\n",
    "\n",
    "**`feature_list=['fscw-products-10-18-00-12: age_60-69, age_70-plus',\n",
    "              'fscw-customers-10-18-00-12: category_packaged_cheese']`**\n",
    "\n",
    "To get all features from users and product features stroes:  \n",
    "\n",
    "**`feature_list=['fscw-products-10-18-00-12:*',\n",
    "              'fscw-customers-10-18-00-12:*']`**\n",
    "\n",
    "2. Our model was built using all the features from the two feature groups and therefore we will exctract all the features.\n",
    "\n",
    "3. We are defining a custom input_fn function. Our request body is in a form of customer id and product id that calls the feature store client, using the helper library.\n",
    "\n",
    "4. You can take note of the time it takes for the features to be returned from the feature stores within the cloudwatch logs.\n"
   ]
  },
  {
   "cell_type": "code",
   "execution_count": null,
   "metadata": {},
   "outputs": [],
   "source": [
    "%%writefile custom_library/inference_entry.py\n",
    "\n",
    "import json\n",
    "from io import StringIO\n",
    "import os\n",
    "import pickle as pkl\n",
    "import joblib\n",
    "import time\n",
    "import sys\n",
    "import subprocess\n",
    "import numpy as np\n",
    "from sagemaker_containers.beta.framework import (\n",
    "    content_types,\n",
    "    encoders,\n",
    "    env,\n",
    "    modules,\n",
    "    transformer,\n",
    "    worker,\n",
    ")\n",
    "\n",
    "\n",
    "import pandas as pd\n",
    "import boto3\n",
    "import sagemaker\n",
    "import helper\n",
    "import sagemaker_xgboost_container.encoder as xgb_encoders\n",
    "\n",
    "boto_session = boto3.Session()\n",
    "region= boto_session.region_name\n",
    "print(region)\n",
    "\n",
    "\n",
    "\n",
    "feature_list=['fscw-products-10-18-00-12:*','fscw-customers-10-18-00-12:*']\n",
    "\n",
    "import json\n",
    "import os\n",
    "import pickle as pkl\n",
    "\n",
    "import numpy as np\n",
    "import sagemaker_xgboost_container.encoder as xgb_encoders\n",
    "\n",
    "\n",
    "def model_fn(model_dir):\n",
    "    \"\"\"\n",
    "    Deserialize and return fitted model.\n",
    "    \"\"\"\n",
    "    model_file = \"xgboost-model\"\n",
    "    booster = pkl.load(open(os.path.join(model_dir, model_file), \"rb\"))\n",
    "    return booster\n",
    "\n",
    "def input_fn(request_body, request_content_type):\n",
    "    print(request_content_type)\n",
    "    \"\"\"\n",
    "    The SageMaker XGBoost model server receives the request data body and the content type,\n",
    "    and invokes the `input_fn`.\n",
    "    Return a DMatrix (an object that can be passed to predict_fn).\n",
    "    \"\"\"\n",
    "    print(request_content_type)\n",
    "    if request_content_type == \"text/csv\":\n",
    "        params =request_body.split(',')\n",
    "        id_dict={'customer_id':params[0], 'product_id':params[1]}\n",
    "        start = time.time()\n",
    "        rec=f'{id_dict}, {feature_list}'\n",
    "        records= helper.get_latest_featureset_values_e(id_dict, feature_list)\n",
    "        end= time.time()\n",
    "        duration= end-start\n",
    "        print (\"time to lookup features from two feature stores:\", duration)\n",
    "        records= \",\".join([str(e) for e in records.values()])\n",
    "        return xgb_encoders.csv_to_dmatrix(records)\n",
    "    else:\n",
    "        raise ValueError(\"{} not supported by script!\".format(request_content_type))\n",
    "        \n",
    "    "
   ]
  },
  {
   "cell_type": "code",
   "execution_count": null,
   "metadata": {},
   "outputs": [],
   "source": [
    "from sagemaker.xgboost.model import XGBoostModel\n",
    "from sagemaker.serializers import CSVSerializer\n",
    "\n",
    "instance_type = \"ml.m4.xlarge\"\n",
    "\n",
    "xgboost_inference_feature = XGBoostModel(\n",
    "    model_data= xgb_model_data,\n",
    "    role=sagemaker_execution_role,\n",
    "    source_dir= './custom_library',\n",
    "    entry_point=\"inference_entry.py\",\n",
    "    framework_version=\"1.2-2\")\n",
    "\n",
    "predictor_feature = xgboost_inference_feature.deploy(\n",
    "    initial_instance_count=1, instance_type=instance_type)"
   ]
  },
  {
   "cell_type": "markdown",
   "metadata": {},
   "source": [
    "# Make inferences using the deployed model <a class=\"anchor\" id=\"Real-time-inference-using-the-deployed-endpoint\"></a>"
   ]
  },
  {
   "cell_type": "code",
   "execution_count": null,
   "metadata": {},
   "outputs": [],
   "source": [
    "predictor_feature.serializer = CSVSerializer()\n",
    "\n",
    "cust_id='C50'\n",
    "prod_id='P2'\n",
    "test_data= f'{cust_id}, {prod_id}'\n",
    "print(test_data)\n",
    "\n",
    "print(predictor_feature.predict(test_data))"
   ]
  },
  {
   "cell_type": "markdown",
   "metadata": {},
   "source": [
    "### *Optional*- if you like to play around abit and see how fast features are returned from the two features stores within your inference endpoint you can use the following code"
   ]
  },
  {
   "cell_type": "code",
   "execution_count": null,
   "metadata": {},
   "outputs": [],
   "source": [
    "import numpy as np\n",
    "import sagemaker\n",
    "import time\n",
    "import pandas as pd\n",
    "from custom_library import helper\n",
    "\n",
    "feature_list=['fscw-products-10-18-00-12:*','fscw-customers-10-18-00-12:*']\n",
    "\n",
    "\n",
    "def input_fn(request_data, request_content_type):\n",
    "    if request_content_type == \"text/csv\":\n",
    "        params =request_data.split(',')\n",
    "        id_dict={'customer_id':params[0], 'product_id':params[1]}\n",
    "        start = time.time()\n",
    "        records= helper.get_latest_featureset_values(id_dict, feature_list)\n",
    "        end= time.time()\n",
    "        duration= end-start\n",
    "        print(\"time to lookup features from two feature stores:\", duration)\n",
    "        records= \",\".join([str(e) for e in records.values()])\n",
    "        return records, duration\n",
    "    else:\n",
    "        raise ValueError(\"{} not supported by script!\".format(request_content_type))\n"
   ]
  },
  {
   "cell_type": "code",
   "execution_count": null,
   "metadata": {},
   "outputs": [],
   "source": [
    "cust_id='C45'\n",
    "prod_id='P26'\n",
    "payload= f'{cust_id},{prod_id}'\n",
    "print(payload)\n",
    "\n",
    "input_fn(payload, \"text/csv\")"
   ]
  }
 ],
 "metadata": {
  "instance_type": "ml.t3.medium",
  "kernelspec": {
   "display_name": "conda_python3",
   "language": "python",
   "name": "conda_python3"
  },
  "language_info": {
   "codemirror_mode": {
    "name": "ipython",
    "version": 3
   },
   "file_extension": ".py",
   "mimetype": "text/x-python",
   "name": "python",
   "nbconvert_exporter": "python",
   "pygments_lexer": "ipython3",
   "version": "3.6.13"
  },
  "toc-autonumbering": false,
  "toc-showcode": false,
  "toc-showmarkdowntxt": true,
  "toc-showtags": false
 },
 "nbformat": 4,
 "nbformat_minor": 4
}
