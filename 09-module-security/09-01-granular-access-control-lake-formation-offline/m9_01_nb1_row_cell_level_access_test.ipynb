{
 "cells": [
  {
   "cell_type": "markdown",
   "metadata": {},
   "source": [
    "## Module 9: Test granular access control using Athena query\n",
    "\n",
    "Using Row- and Cell-level access using AWS Lake Formation. Extract the data from Feature Store using Athena query"
   ]
  },
  {
   "cell_type": "markdown",
   "metadata": {},
   "source": [
    "![Granular Access using Lake Formation](../../images/m9_nb1_lakeformation_architecture.png \"Granular Access using Lake Formation\")"
   ]
  },
  {
   "cell_type": "markdown",
   "metadata": {},
   "source": [
    "#### Imports "
   ]
  },
  {
   "cell_type": "code",
   "execution_count": 12,
   "metadata": {},
   "outputs": [],
   "source": [
    "from sagemaker.feature_store.feature_group import FeatureGroup\n",
    "from sagemaker import get_execution_role\n",
    "import sagemaker\n",
    "import logging\n",
    "import boto3\n",
    "import pandas as pd\n",
    "import time\n",
    "import re\n",
    "import os\n",
    "import sys\n",
    "from pyathena import connect\n",
    "import pandas as pd\n",
    "sys.path.append('..')\n",
    "from utilities import Utils\n",
    "from utilities import feature_store_helper"
   ]
  },
  {
   "cell_type": "code",
   "execution_count": 13,
   "metadata": {},
   "outputs": [],
   "source": [
    "logger = logging.getLogger('__name__')\n",
    "logger.setLevel(logging.DEBUG)\n",
    "logger.addHandler(logging.StreamHandler())"
   ]
  },
  {
   "cell_type": "markdown",
   "metadata": {},
   "source": [
    "#### Initialize default parameters"
   ]
  },
  {
   "cell_type": "code",
   "execution_count": 14,
   "metadata": {},
   "outputs": [],
   "source": [
    "sagemaker_session = sagemaker.Session()\n",
    "account_id = sagemaker_session.account_id()\n",
    "role = sagemaker.get_execution_role()\n",
    "region = sagemaker_session.boto_region_name\n",
    "default_bucket = sagemaker_session.default_bucket()\n",
    "s3_client = boto3.client('s3', region_name=region)\n",
    "query_results= 'sagemaker-featurestore-workshop'\n",
    "prefix = 'sagemaker-feature-store'"
   ]
  },
  {
   "cell_type": "markdown",
   "metadata": {},
   "source": [
    "#### Initialize boto3 runtime"
   ]
  },
  {
   "cell_type": "code",
   "execution_count": 15,
   "metadata": {},
   "outputs": [],
   "source": [
    "boto_session = boto3.Session(region_name=region)\n",
    "sagemaker_client = boto_session.client(service_name='sagemaker', region_name=region)\n",
    "featurestore_runtime = boto_session.client(service_name='sagemaker-featurestore-runtime', region_name=region)\n",
    "\n",
    "feature_store_session = sagemaker.Session(boto_session=boto_session, \n",
    "                                          sagemaker_client=sagemaker_client, \n",
    "                                          sagemaker_featurestore_runtime_client=featurestore_runtime)"
   ]
  },
  {
   "cell_type": "markdown",
   "metadata": {},
   "source": [
    "#### Retrieve the orders products and customers feature group names"
   ]
  },
  {
   "cell_type": "markdown",
   "metadata": {},
   "source": [
    "In this notebook, we will be using the feature groups created in Module 1 of the workshop. In case you would like to use a different feature group, please uncomment and replace **ORDERS_FEATURE_GROUP_NAME**, **CUSTOMERS_FEATURE_GROUP_NAME**, **PRODUCTS_FEATURE_GROUP_NAME** with the name of your Feature Groups for example. "
   ]
  },
  {
   "cell_type": "code",
   "execution_count": 18,
   "metadata": {},
   "outputs": [
    {
     "name": "stderr",
     "output_type": "stream",
     "text": [
      "Customers feature group name = fscw-customers-02-13-20-20\n",
      "Customers feature group name = fscw-customers-02-13-20-20\n",
      "Products feature group name = fscw-products-02-13-20-20\n",
      "Products feature group name = fscw-products-02-13-20-20\n",
      "Orders feature group name = fscw-orders-02-13-20-20\n",
      "Orders feature group name = fscw-orders-02-13-20-20\n"
     ]
    }
   ],
   "source": [
    "# Retrieve FG names (when running previous modules)\n",
    "#%store -r customers_feature_group_name\n",
    "#%store -r orders_feature_group_name\n",
    "#%store -r products_feature_group_name\n",
    "\n",
    "orders_feature_group_name = 'fscw-orders-02-13-20-20'\n",
    "customers_feature_group_name = 'fscw-customers-02-13-20-20'\n",
    "products_feature_group_name = 'fscw-products-02-13-20-20'\n",
    "\n",
    "logger.info(f'Customers feature group name = {customers_feature_group_name}')\n",
    "logger.info(f'Products feature group name = {products_feature_group_name}')\n",
    "logger.info(f'Orders feature group name = {orders_feature_group_name}')\n",
    "\n",
    "customers_fg = FeatureGroup(name=customers_feature_group_name, sagemaker_session=feature_store_session)  \n",
    "orders_fg = FeatureGroup(name=orders_feature_group_name, sagemaker_session=feature_store_session)\n",
    "products_fg = FeatureGroup(name=products_feature_group_name, sagemaker_session=feature_store_session)"
   ]
  },
  {
   "cell_type": "markdown",
   "metadata": {},
   "source": [
    "#### Build Athena query to retrieve records from features groups - `customers` `products` `orders`"
   ]
  },
  {
   "cell_type": "code",
   "execution_count": 19,
   "metadata": {},
   "outputs": [],
   "source": [
    "customers_query = customers_fg.athena_query()\n",
    "customers_table = customers_query.table_name\n",
    "\n",
    "products_query = products_fg.athena_query()\n",
    "products_table = products_query.table_name\n",
    "\n",
    "orders_query = orders_fg.athena_query()\n",
    "orders_table = orders_query.table_name"
   ]
  },
  {
   "cell_type": "code",
   "execution_count": 20,
   "metadata": {},
   "outputs": [
    {
     "name": "stdout",
     "output_type": "stream",
     "text": [
      "Stored 'orders_query_string' (str)\n",
      "Stored 'customers_query_string' (str)\n",
      "Stored 'products_query_string' (str)\n"
     ]
    },
    {
     "data": {
      "text/plain": [
       "'SELECT * FROM \"sagemaker_featurestore\".\"fscw-products-02-13-20-20-1644783659\" '"
      ]
     },
     "execution_count": 20,
     "metadata": {},
     "output_type": "execute_result"
    }
   ],
   "source": [
    "orders_query_string = f'SELECT * FROM \"sagemaker_featurestore\".\"{orders_table}\" '\n",
    "customers_query_string = f'SELECT * FROM \"sagemaker_featurestore\".\"{customers_table}\" '\n",
    "products_query_string = f'SELECT * FROM \"sagemaker_featurestore\".\"{products_table}\" '\n",
    "\n",
    "%store orders_query_string\n",
    "orders_query_string\n",
    "\n",
    "%store customers_query_string\n",
    "customers_query_string\n",
    "\n",
    "%store products_query_string\n",
    "products_query_string"
   ]
  },
  {
   "cell_type": "code",
   "execution_count": 21,
   "metadata": {},
   "outputs": [
    {
     "name": "stdout",
     "output_type": "stream",
     "text": [
      "Athena query output location: \n",
      "s3://sagemaker-us-east-1-227246955871/athena-results/\n"
     ]
    }
   ],
   "source": [
    "output_location = f's3://{default_bucket}/athena-results/'\n",
    "print(f'Athena query output location: \\n{output_location}')"
   ]
  },
  {
   "cell_type": "markdown",
   "metadata": {},
   "source": [
    "### Scenario 1: Row Level Access using Lake Formation using `orders`\n",
    "\n",
    "#### Lakeformation applies row level access control and the sql query returns data only for one customer Id."
   ]
  },
  {
   "cell_type": "markdown",
   "metadata": {},
   "source": [
    "##### Extract the data from Feature Store using Athena query using SageMaker SDK"
   ]
  },
  {
   "cell_type": "code",
   "execution_count": 22,
   "metadata": {},
   "outputs": [
    {
     "data": {
      "text/html": [
       "<div>\n",
       "<style scoped>\n",
       "    .dataframe tbody tr th:only-of-type {\n",
       "        vertical-align: middle;\n",
       "    }\n",
       "\n",
       "    .dataframe tbody tr th {\n",
       "        vertical-align: top;\n",
       "    }\n",
       "\n",
       "    .dataframe thead th {\n",
       "        text-align: right;\n",
       "    }\n",
       "</style>\n",
       "<table border=\"1\" class=\"dataframe\">\n",
       "  <thead>\n",
       "    <tr style=\"text-align: right;\">\n",
       "      <th></th>\n",
       "      <th>order_id</th>\n",
       "      <th>customer_id</th>\n",
       "      <th>product_id</th>\n",
       "      <th>purchase_amount</th>\n",
       "      <th>is_reordered</th>\n",
       "      <th>event_time</th>\n",
       "      <th>n_days_since_last_purchase</th>\n",
       "      <th>write_time</th>\n",
       "      <th>api_invocation_time</th>\n",
       "      <th>is_deleted</th>\n",
       "    </tr>\n",
       "  </thead>\n",
       "  <tbody>\n",
       "    <tr>\n",
       "      <th>0</th>\n",
       "      <td>O13396</td>\n",
       "      <td>C7782</td>\n",
       "      <td>P12059</td>\n",
       "      <td>0.172871</td>\n",
       "      <td>1</td>\n",
       "      <td>2022-02-13T20:18:07.415Z</td>\n",
       "      <td>0.116279</td>\n",
       "      <td>2022-02-13 20:27:26.832</td>\n",
       "      <td>2022-02-13 20:22:47.000</td>\n",
       "      <td>False</td>\n",
       "    </tr>\n",
       "    <tr>\n",
       "      <th>1</th>\n",
       "      <td>O15608</td>\n",
       "      <td>C7782</td>\n",
       "      <td>P9901</td>\n",
       "      <td>0.282871</td>\n",
       "      <td>1</td>\n",
       "      <td>2022-02-13T20:18:07.540Z</td>\n",
       "      <td>0.170543</td>\n",
       "      <td>2022-02-13 20:27:27.962</td>\n",
       "      <td>2022-02-13 20:23:36.000</td>\n",
       "      <td>False</td>\n",
       "    </tr>\n",
       "    <tr>\n",
       "      <th>2</th>\n",
       "      <td>O55559</td>\n",
       "      <td>C7782</td>\n",
       "      <td>P2748</td>\n",
       "      <td>0.694653</td>\n",
       "      <td>0</td>\n",
       "      <td>2022-02-13T20:18:09.879Z</td>\n",
       "      <td>0.434109</td>\n",
       "      <td>2022-02-13 20:27:27.613</td>\n",
       "      <td>2022-02-13 20:24:33.000</td>\n",
       "      <td>False</td>\n",
       "    </tr>\n",
       "    <tr>\n",
       "      <th>3</th>\n",
       "      <td>O48986</td>\n",
       "      <td>C7782</td>\n",
       "      <td>P8904</td>\n",
       "      <td>0.487723</td>\n",
       "      <td>0</td>\n",
       "      <td>2022-02-13T20:18:09.503Z</td>\n",
       "      <td>0.717054</td>\n",
       "      <td>2022-02-13 20:27:27.083</td>\n",
       "      <td>2022-02-13 20:24:23.000</td>\n",
       "      <td>False</td>\n",
       "    </tr>\n",
       "    <tr>\n",
       "      <th>4</th>\n",
       "      <td>O26086</td>\n",
       "      <td>C7782</td>\n",
       "      <td>P9474</td>\n",
       "      <td>0.337129</td>\n",
       "      <td>0</td>\n",
       "      <td>2022-02-13T20:18:08.141Z</td>\n",
       "      <td>0.077519</td>\n",
       "      <td>2022-02-13 20:27:28.419</td>\n",
       "      <td>2022-02-13 20:22:52.000</td>\n",
       "      <td>False</td>\n",
       "    </tr>\n",
       "  </tbody>\n",
       "</table>\n",
       "</div>"
      ],
      "text/plain": [
       "  order_id customer_id product_id  purchase_amount  is_reordered  \\\n",
       "0   O13396       C7782     P12059         0.172871             1   \n",
       "1   O15608       C7782      P9901         0.282871             1   \n",
       "2   O55559       C7782      P2748         0.694653             0   \n",
       "3   O48986       C7782      P8904         0.487723             0   \n",
       "4   O26086       C7782      P9474         0.337129             0   \n",
       "\n",
       "                 event_time  n_days_since_last_purchase  \\\n",
       "0  2022-02-13T20:18:07.415Z                    0.116279   \n",
       "1  2022-02-13T20:18:07.540Z                    0.170543   \n",
       "2  2022-02-13T20:18:09.879Z                    0.434109   \n",
       "3  2022-02-13T20:18:09.503Z                    0.717054   \n",
       "4  2022-02-13T20:18:08.141Z                    0.077519   \n",
       "\n",
       "                write_time      api_invocation_time  is_deleted  \n",
       "0  2022-02-13 20:27:26.832  2022-02-13 20:22:47.000       False  \n",
       "1  2022-02-13 20:27:27.962  2022-02-13 20:23:36.000       False  \n",
       "2  2022-02-13 20:27:27.613  2022-02-13 20:24:33.000       False  \n",
       "3  2022-02-13 20:27:27.083  2022-02-13 20:24:23.000       False  \n",
       "4  2022-02-13 20:27:28.419  2022-02-13 20:22:52.000       False  "
      ]
     },
     "execution_count": 22,
     "metadata": {},
     "output_type": "execute_result"
    }
   ],
   "source": [
    "orders_query.run(query_string=orders_query_string, output_location=output_location)\n",
    "orders_query.wait()\n",
    "orders_df = orders_query.as_dataframe()\n",
    "orders_df.head()"
   ]
  },
  {
   "cell_type": "markdown",
   "metadata": {},
   "source": [
    "### Scenario 2: Column Level Access using Lake Formation using `Products`\n",
    "#### Lakeformation applies column level access control and excludes multiple columns from the resultset."
   ]
  },
  {
   "cell_type": "markdown",
   "metadata": {},
   "source": [
    "##### Extract the data from Feature Store using Athena query using SageMaker SDK"
   ]
  },
  {
   "cell_type": "code",
   "execution_count": null,
   "metadata": {},
   "outputs": [],
   "source": [
    "products_query.run(query_string=products_query_string, output_location=output_location)\n",
    "products_query.wait()\n",
    "products_df = products_query.as_dataframe()\n",
    "products_df.head()"
   ]
  },
  {
   "cell_type": "markdown",
   "metadata": {},
   "source": [
    "### Scenario 3: Cell Level Access using Lake Formation using `Customers`\n",
    "#### Lakeformation applies both row and column level ( also known as cell level) access control. The athena query result exclude two columns and return rows for a specific customer Id."
   ]
  },
  {
   "cell_type": "markdown",
   "metadata": {},
   "source": [
    "##### Extract the data from Feature Store using Athena query using SageMaker SDK"
   ]
  },
  {
   "cell_type": "code",
   "execution_count": null,
   "metadata": {},
   "outputs": [],
   "source": [
    "customers_query.run(query_string=customers_query_string, output_location=output_location)\n",
    "customers_query.wait()\n",
    "customers_df = customers_query.as_dataframe()\n",
    "customers_df.head()"
   ]
  },
  {
   "cell_type": "markdown",
   "metadata": {},
   "source": [
    "### For clean up activities, please refer to `m9_nb2_row_cell_level_access_clean_up.ipynb`"
   ]
  }
 ],
 "metadata": {
  "celltoolbar": "Tags",
  "instance_type": "ml.t3.medium",
  "kernelspec": {
   "display_name": "Python 3 (Data Science)",
   "language": "python",
   "name": "python3__SAGEMAKER_INTERNAL__arn:aws:sagemaker:us-east-1:081325390199:image/datascience-1.0"
  },
  "language_info": {
   "codemirror_mode": {
    "name": "ipython",
    "version": 3
   },
   "file_extension": ".py",
   "mimetype": "text/x-python",
   "name": "python",
   "nbconvert_exporter": "python",
   "pygments_lexer": "ipython3",
   "version": "3.7.10"
  },
  "notice": "Copyright 2017 Amazon.com, Inc. or its affiliates. All Rights Reserved.  Licensed under the Apache License, Version 2.0 (the \"License\"). You may not use this file except in compliance with the License. A copy of the License is located at http://aws.amazon.com/apache2.0/ or in the \"license\" file accompanying this file. This file is distributed on an \"AS IS\" BASIS, WITHOUT WARRANTIES OR CONDITIONS OF ANY KIND, either express or implied. See the License for the specific language governing permissions and limitations under the License."
 },
 "nbformat": 4,
 "nbformat_minor": 4
}
